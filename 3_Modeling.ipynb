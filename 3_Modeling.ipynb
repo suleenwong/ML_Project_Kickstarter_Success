{
 "cells": [
  {
   "cell_type": "markdown",
   "metadata": {},
   "source": [
    "# Predicting Kickstarter project success using ML models"
   ]
  },
  {
   "cell_type": "markdown",
   "metadata": {},
   "source": [
    "The data cleaning was performed in the Jupyter notebook file: ```'1_Data_Cleaning.ipynb'```, which produces the file ```'Kickstarter_clean.csv'```.\n",
    "\n",
    "This notebook deals with taking the clean data and using machine learning models to predict the outcome of a Kickstarter project."
   ]
  },
  {
   "cell_type": "markdown",
   "metadata": {},
   "source": [
    "### Importing packages"
   ]
  },
  {
   "cell_type": "code",
   "execution_count": 50,
   "metadata": {},
   "outputs": [],
   "source": [
    "import pandas as pd\n",
    "import numpy as np\n",
    "import matplotlib.pyplot as plt\n",
    "import seaborn as sns\n",
    "\n",
    "from sklearn.preprocessing import StandardScaler\n",
    "from sklearn.model_selection import train_test_split, GridSearchCV\n",
    "from sklearn.linear_model import LogisticRegression\n",
    "from sklearn.neighbors import KNeighborsClassifier\n",
    "from sklearn.svm import SVC\n",
    "from sklearn.tree import DecisionTreeClassifier\n",
    "from xgboost import XGBClassifier\n",
    "from sklearn.ensemble import AdaBoostClassifier\n",
    "from sklearn.metrics import accuracy_score, precision_score, recall_score, f1_score, confusion_matrix, classification_report\n",
    "import itertools\n",
    "\n",
    "import warnings\n",
    "warnings.filterwarnings('ignore')\n",
    "\n",
    "RSEED = 42"
   ]
  },
  {
   "cell_type": "markdown",
   "metadata": {},
   "source": [
    "### Loading cleaned data"
   ]
  },
  {
   "cell_type": "code",
   "execution_count": 51,
   "metadata": {},
   "outputs": [],
   "source": [
    "df = pd.read_csv('data/Kickstarter_clean.csv', sep=',')"
   ]
  },
  {
   "cell_type": "code",
   "execution_count": 52,
   "metadata": {},
   "outputs": [
    {
     "data": {
      "text/html": [
       "<div>\n",
       "<style scoped>\n",
       "    .dataframe tbody tr th:only-of-type {\n",
       "        vertical-align: middle;\n",
       "    }\n",
       "\n",
       "    .dataframe tbody tr th {\n",
       "        vertical-align: top;\n",
       "    }\n",
       "\n",
       "    .dataframe thead th {\n",
       "        text-align: right;\n",
       "    }\n",
       "</style>\n",
       "<table border=\"1\" class=\"dataframe\">\n",
       "  <thead>\n",
       "    <tr style=\"text-align: right;\">\n",
       "      <th></th>\n",
       "      <th>backers_count</th>\n",
       "      <th>category</th>\n",
       "      <th>country</th>\n",
       "      <th>goal</th>\n",
       "      <th>staff_pick</th>\n",
       "      <th>usd_pledged</th>\n",
       "      <th>target</th>\n",
       "      <th>blurb_length</th>\n",
       "      <th>name_length</th>\n",
       "      <th>subcategory</th>\n",
       "      <th>duration_days</th>\n",
       "      <th>year</th>\n",
       "      <th>month</th>\n",
       "    </tr>\n",
       "  </thead>\n",
       "  <tbody>\n",
       "    <tr>\n",
       "      <th>0</th>\n",
       "      <td>21</td>\n",
       "      <td>music</td>\n",
       "      <td>US</td>\n",
       "      <td>200.0</td>\n",
       "      <td>0</td>\n",
       "      <td>802.00000</td>\n",
       "      <td>1</td>\n",
       "      <td>26</td>\n",
       "      <td>4</td>\n",
       "      <td>rock</td>\n",
       "      <td>45</td>\n",
       "      <td>2013</td>\n",
       "      <td>12</td>\n",
       "    </tr>\n",
       "    <tr>\n",
       "      <th>1</th>\n",
       "      <td>97</td>\n",
       "      <td>art</td>\n",
       "      <td>US</td>\n",
       "      <td>400.0</td>\n",
       "      <td>0</td>\n",
       "      <td>2259.00000</td>\n",
       "      <td>1</td>\n",
       "      <td>9</td>\n",
       "      <td>5</td>\n",
       "      <td>mixed media</td>\n",
       "      <td>20</td>\n",
       "      <td>2019</td>\n",
       "      <td>2</td>\n",
       "    </tr>\n",
       "    <tr>\n",
       "      <th>2</th>\n",
       "      <td>88</td>\n",
       "      <td>photography</td>\n",
       "      <td>US</td>\n",
       "      <td>27224.0</td>\n",
       "      <td>1</td>\n",
       "      <td>29638.00000</td>\n",
       "      <td>1</td>\n",
       "      <td>25</td>\n",
       "      <td>9</td>\n",
       "      <td>photobooks</td>\n",
       "      <td>30</td>\n",
       "      <td>2016</td>\n",
       "      <td>11</td>\n",
       "    </tr>\n",
       "    <tr>\n",
       "      <th>3</th>\n",
       "      <td>193</td>\n",
       "      <td>fashion</td>\n",
       "      <td>IT</td>\n",
       "      <td>45461.0</td>\n",
       "      <td>0</td>\n",
       "      <td>49075.15252</td>\n",
       "      <td>1</td>\n",
       "      <td>13</td>\n",
       "      <td>5</td>\n",
       "      <td>footwear</td>\n",
       "      <td>41</td>\n",
       "      <td>2018</td>\n",
       "      <td>10</td>\n",
       "    </tr>\n",
       "    <tr>\n",
       "      <th>4</th>\n",
       "      <td>20</td>\n",
       "      <td>technology</td>\n",
       "      <td>US</td>\n",
       "      <td>1000.0</td>\n",
       "      <td>0</td>\n",
       "      <td>549.00000</td>\n",
       "      <td>0</td>\n",
       "      <td>22</td>\n",
       "      <td>4</td>\n",
       "      <td>software</td>\n",
       "      <td>30</td>\n",
       "      <td>2015</td>\n",
       "      <td>3</td>\n",
       "    </tr>\n",
       "  </tbody>\n",
       "</table>\n",
       "</div>"
      ],
      "text/plain": [
       "   backers_count     category country     goal  staff_pick  usd_pledged  \\\n",
       "0             21        music      US    200.0           0    802.00000   \n",
       "1             97          art      US    400.0           0   2259.00000   \n",
       "2             88  photography      US  27224.0           1  29638.00000   \n",
       "3            193      fashion      IT  45461.0           0  49075.15252   \n",
       "4             20   technology      US   1000.0           0    549.00000   \n",
       "\n",
       "   target  blurb_length  name_length  subcategory  duration_days  year  month  \n",
       "0       1            26            4         rock             45  2013     12  \n",
       "1       1             9            5  mixed media             20  2019      2  \n",
       "2       1            25            9   photobooks             30  2016     11  \n",
       "3       1            13            5     footwear             41  2018     10  \n",
       "4       0            22            4     software             30  2015      3  "
      ]
     },
     "execution_count": 52,
     "metadata": {},
     "output_type": "execute_result"
    }
   ],
   "source": [
    "# Examining the features of the cleaned dataset\n",
    "df.head()"
   ]
  },
  {
   "cell_type": "markdown",
   "metadata": {},
   "source": [
    "## Preprocessing the data "
   ]
  },
  {
   "cell_type": "code",
   "execution_count": 53,
   "metadata": {},
   "outputs": [],
   "source": [
    "# Convert some columns to categorical\n",
    "df['country'] = df['country'].astype('category')\n",
    "df['category'] = df['category'].astype('category')\n",
    "df['staff_pick'] = df['staff_pick'].astype('category')\n",
    "df['year'] = df['year'].astype('category')\n",
    "df['month'] = df['month'].astype('category')"
   ]
  },
  {
   "cell_type": "markdown",
   "metadata": {},
   "source": [
    "```backers_count``` and ``usd_pledged`` are quantities that are known at the deadline of the project. It stands to reason that the higher the number of backers and the higher the amount pledged, the more likely a project is to succeed. We want to predict at the launch of the project whether it will be successful or not and the number of backers and amount pledged is not known at the start of a project's launch."
   ]
  },
  {
   "cell_type": "code",
   "execution_count": 54,
   "metadata": {},
   "outputs": [],
   "source": [
    "# Defining target and feature variables\n",
    "y = df['target']\n",
    "X = df.drop(['target','backers_count','usd_pledged','subcategory'], axis=1)"
   ]
  },
  {
   "cell_type": "code",
   "execution_count": 55,
   "metadata": {},
   "outputs": [
    {
     "data": {
      "text/html": [
       "<div>\n",
       "<style scoped>\n",
       "    .dataframe tbody tr th:only-of-type {\n",
       "        vertical-align: middle;\n",
       "    }\n",
       "\n",
       "    .dataframe tbody tr th {\n",
       "        vertical-align: top;\n",
       "    }\n",
       "\n",
       "    .dataframe thead th {\n",
       "        text-align: right;\n",
       "    }\n",
       "</style>\n",
       "<table border=\"1\" class=\"dataframe\">\n",
       "  <thead>\n",
       "    <tr style=\"text-align: right;\">\n",
       "      <th></th>\n",
       "      <th>category</th>\n",
       "      <th>country</th>\n",
       "      <th>goal</th>\n",
       "      <th>staff_pick</th>\n",
       "      <th>blurb_length</th>\n",
       "      <th>name_length</th>\n",
       "      <th>duration_days</th>\n",
       "      <th>year</th>\n",
       "      <th>month</th>\n",
       "    </tr>\n",
       "  </thead>\n",
       "  <tbody>\n",
       "    <tr>\n",
       "      <th>0</th>\n",
       "      <td>music</td>\n",
       "      <td>US</td>\n",
       "      <td>200.0</td>\n",
       "      <td>0</td>\n",
       "      <td>26</td>\n",
       "      <td>4</td>\n",
       "      <td>45</td>\n",
       "      <td>2013</td>\n",
       "      <td>12</td>\n",
       "    </tr>\n",
       "    <tr>\n",
       "      <th>1</th>\n",
       "      <td>art</td>\n",
       "      <td>US</td>\n",
       "      <td>400.0</td>\n",
       "      <td>0</td>\n",
       "      <td>9</td>\n",
       "      <td>5</td>\n",
       "      <td>20</td>\n",
       "      <td>2019</td>\n",
       "      <td>2</td>\n",
       "    </tr>\n",
       "    <tr>\n",
       "      <th>2</th>\n",
       "      <td>photography</td>\n",
       "      <td>US</td>\n",
       "      <td>27224.0</td>\n",
       "      <td>1</td>\n",
       "      <td>25</td>\n",
       "      <td>9</td>\n",
       "      <td>30</td>\n",
       "      <td>2016</td>\n",
       "      <td>11</td>\n",
       "    </tr>\n",
       "    <tr>\n",
       "      <th>3</th>\n",
       "      <td>fashion</td>\n",
       "      <td>IT</td>\n",
       "      <td>45461.0</td>\n",
       "      <td>0</td>\n",
       "      <td>13</td>\n",
       "      <td>5</td>\n",
       "      <td>41</td>\n",
       "      <td>2018</td>\n",
       "      <td>10</td>\n",
       "    </tr>\n",
       "    <tr>\n",
       "      <th>4</th>\n",
       "      <td>technology</td>\n",
       "      <td>US</td>\n",
       "      <td>1000.0</td>\n",
       "      <td>0</td>\n",
       "      <td>22</td>\n",
       "      <td>4</td>\n",
       "      <td>30</td>\n",
       "      <td>2015</td>\n",
       "      <td>3</td>\n",
       "    </tr>\n",
       "  </tbody>\n",
       "</table>\n",
       "</div>"
      ],
      "text/plain": [
       "      category country     goal staff_pick  blurb_length  name_length  \\\n",
       "0        music      US    200.0          0            26            4   \n",
       "1          art      US    400.0          0             9            5   \n",
       "2  photography      US  27224.0          1            25            9   \n",
       "3      fashion      IT  45461.0          0            13            5   \n",
       "4   technology      US   1000.0          0            22            4   \n",
       "\n",
       "   duration_days  year month  \n",
       "0             45  2013    12  \n",
       "1             20  2019     2  \n",
       "2             30  2016    11  \n",
       "3             41  2018    10  \n",
       "4             30  2015     3  "
      ]
     },
     "execution_count": 55,
     "metadata": {},
     "output_type": "execute_result"
    }
   ],
   "source": [
    "X.head()"
   ]
  },
  {
   "cell_type": "code",
   "execution_count": 56,
   "metadata": {},
   "outputs": [],
   "source": [
    "# Make copy of features DataFrame for error analysis later\n",
    "Xc = X.copy()\n",
    "Xc_train, Xc_test, yc_train, yc_test = train_test_split(Xc, y, test_size=0.3, stratify=y, random_state=RSEED)"
   ]
  },
  {
   "cell_type": "code",
   "execution_count": 57,
   "metadata": {},
   "outputs": [],
   "source": [
    "# Creating dummy variables\n",
    "col_dummies = ['category', 'country', 'staff_pick', 'year', 'month']\n",
    "X_dum = pd.get_dummies(X[col_dummies], drop_first=True)\n",
    "X.drop(col_dummies, axis=1, inplace=True)\n",
    "X = pd.concat([X, X_dum], axis=1)"
   ]
  },
  {
   "cell_type": "code",
   "execution_count": 58,
   "metadata": {},
   "outputs": [
    {
     "data": {
      "text/html": [
       "<div>\n",
       "<style scoped>\n",
       "    .dataframe tbody tr th:only-of-type {\n",
       "        vertical-align: middle;\n",
       "    }\n",
       "\n",
       "    .dataframe tbody tr th {\n",
       "        vertical-align: top;\n",
       "    }\n",
       "\n",
       "    .dataframe thead th {\n",
       "        text-align: right;\n",
       "    }\n",
       "</style>\n",
       "<table border=\"1\" class=\"dataframe\">\n",
       "  <thead>\n",
       "    <tr style=\"text-align: right;\">\n",
       "      <th></th>\n",
       "      <th>goal</th>\n",
       "      <th>blurb_length</th>\n",
       "      <th>name_length</th>\n",
       "      <th>duration_days</th>\n",
       "      <th>category_comics</th>\n",
       "      <th>category_crafts</th>\n",
       "      <th>category_dance</th>\n",
       "      <th>category_design</th>\n",
       "      <th>category_fashion</th>\n",
       "      <th>category_film &amp; video</th>\n",
       "      <th>...</th>\n",
       "      <th>month_3</th>\n",
       "      <th>month_4</th>\n",
       "      <th>month_5</th>\n",
       "      <th>month_6</th>\n",
       "      <th>month_7</th>\n",
       "      <th>month_8</th>\n",
       "      <th>month_9</th>\n",
       "      <th>month_10</th>\n",
       "      <th>month_11</th>\n",
       "      <th>month_12</th>\n",
       "    </tr>\n",
       "  </thead>\n",
       "  <tbody>\n",
       "    <tr>\n",
       "      <th>0</th>\n",
       "      <td>200.0</td>\n",
       "      <td>26</td>\n",
       "      <td>4</td>\n",
       "      <td>45</td>\n",
       "      <td>0</td>\n",
       "      <td>0</td>\n",
       "      <td>0</td>\n",
       "      <td>0</td>\n",
       "      <td>0</td>\n",
       "      <td>0</td>\n",
       "      <td>...</td>\n",
       "      <td>0</td>\n",
       "      <td>0</td>\n",
       "      <td>0</td>\n",
       "      <td>0</td>\n",
       "      <td>0</td>\n",
       "      <td>0</td>\n",
       "      <td>0</td>\n",
       "      <td>0</td>\n",
       "      <td>0</td>\n",
       "      <td>1</td>\n",
       "    </tr>\n",
       "    <tr>\n",
       "      <th>1</th>\n",
       "      <td>400.0</td>\n",
       "      <td>9</td>\n",
       "      <td>5</td>\n",
       "      <td>20</td>\n",
       "      <td>0</td>\n",
       "      <td>0</td>\n",
       "      <td>0</td>\n",
       "      <td>0</td>\n",
       "      <td>0</td>\n",
       "      <td>0</td>\n",
       "      <td>...</td>\n",
       "      <td>0</td>\n",
       "      <td>0</td>\n",
       "      <td>0</td>\n",
       "      <td>0</td>\n",
       "      <td>0</td>\n",
       "      <td>0</td>\n",
       "      <td>0</td>\n",
       "      <td>0</td>\n",
       "      <td>0</td>\n",
       "      <td>0</td>\n",
       "    </tr>\n",
       "    <tr>\n",
       "      <th>2</th>\n",
       "      <td>27224.0</td>\n",
       "      <td>25</td>\n",
       "      <td>9</td>\n",
       "      <td>30</td>\n",
       "      <td>0</td>\n",
       "      <td>0</td>\n",
       "      <td>0</td>\n",
       "      <td>0</td>\n",
       "      <td>0</td>\n",
       "      <td>0</td>\n",
       "      <td>...</td>\n",
       "      <td>0</td>\n",
       "      <td>0</td>\n",
       "      <td>0</td>\n",
       "      <td>0</td>\n",
       "      <td>0</td>\n",
       "      <td>0</td>\n",
       "      <td>0</td>\n",
       "      <td>0</td>\n",
       "      <td>1</td>\n",
       "      <td>0</td>\n",
       "    </tr>\n",
       "    <tr>\n",
       "      <th>3</th>\n",
       "      <td>45461.0</td>\n",
       "      <td>13</td>\n",
       "      <td>5</td>\n",
       "      <td>41</td>\n",
       "      <td>0</td>\n",
       "      <td>0</td>\n",
       "      <td>0</td>\n",
       "      <td>0</td>\n",
       "      <td>1</td>\n",
       "      <td>0</td>\n",
       "      <td>...</td>\n",
       "      <td>0</td>\n",
       "      <td>0</td>\n",
       "      <td>0</td>\n",
       "      <td>0</td>\n",
       "      <td>0</td>\n",
       "      <td>0</td>\n",
       "      <td>0</td>\n",
       "      <td>1</td>\n",
       "      <td>0</td>\n",
       "      <td>0</td>\n",
       "    </tr>\n",
       "    <tr>\n",
       "      <th>4</th>\n",
       "      <td>1000.0</td>\n",
       "      <td>22</td>\n",
       "      <td>4</td>\n",
       "      <td>30</td>\n",
       "      <td>0</td>\n",
       "      <td>0</td>\n",
       "      <td>0</td>\n",
       "      <td>0</td>\n",
       "      <td>0</td>\n",
       "      <td>0</td>\n",
       "      <td>...</td>\n",
       "      <td>1</td>\n",
       "      <td>0</td>\n",
       "      <td>0</td>\n",
       "      <td>0</td>\n",
       "      <td>0</td>\n",
       "      <td>0</td>\n",
       "      <td>0</td>\n",
       "      <td>0</td>\n",
       "      <td>0</td>\n",
       "      <td>0</td>\n",
       "    </tr>\n",
       "  </tbody>\n",
       "</table>\n",
       "<p>5 rows × 61 columns</p>\n",
       "</div>"
      ],
      "text/plain": [
       "      goal  blurb_length  name_length  duration_days  category_comics  \\\n",
       "0    200.0            26            4             45                0   \n",
       "1    400.0             9            5             20                0   \n",
       "2  27224.0            25            9             30                0   \n",
       "3  45461.0            13            5             41                0   \n",
       "4   1000.0            22            4             30                0   \n",
       "\n",
       "   category_crafts  category_dance  category_design  category_fashion  \\\n",
       "0                0               0                0                 0   \n",
       "1                0               0                0                 0   \n",
       "2                0               0                0                 0   \n",
       "3                0               0                0                 1   \n",
       "4                0               0                0                 0   \n",
       "\n",
       "   category_film & video  ...  month_3  month_4  month_5  month_6  month_7  \\\n",
       "0                      0  ...        0        0        0        0        0   \n",
       "1                      0  ...        0        0        0        0        0   \n",
       "2                      0  ...        0        0        0        0        0   \n",
       "3                      0  ...        0        0        0        0        0   \n",
       "4                      0  ...        1        0        0        0        0   \n",
       "\n",
       "   month_8  month_9  month_10  month_11  month_12  \n",
       "0        0        0         0         0         1  \n",
       "1        0        0         0         0         0  \n",
       "2        0        0         0         1         0  \n",
       "3        0        0         1         0         0  \n",
       "4        0        0         0         0         0  \n",
       "\n",
       "[5 rows x 61 columns]"
      ]
     },
     "execution_count": 58,
     "metadata": {},
     "output_type": "execute_result"
    }
   ],
   "source": [
    "X.head()"
   ]
  },
  {
   "cell_type": "markdown",
   "metadata": {},
   "source": [
    "After creating the dummy variables, we can see that the dataset consists of mostly categorical features."
   ]
  },
  {
   "cell_type": "code",
   "execution_count": 59,
   "metadata": {},
   "outputs": [],
   "source": [
    "# Split test and train data\n",
    "X_train, X_test, y_train, y_test = train_test_split(X, y, test_size=0.3, stratify=y, random_state=RSEED)"
   ]
  },
  {
   "cell_type": "code",
   "execution_count": 60,
   "metadata": {},
   "outputs": [
    {
     "name": "stdout",
     "output_type": "stream",
     "text": [
      "Columns that will be scaled: ['goal', 'blurb_length', 'name_length', 'duration_days']\n"
     ]
    }
   ],
   "source": [
    "# Print columns that will be scaled\n",
    "col_scale = list(X.dtypes[(X.dtypes == 'float64') | (X.dtypes == 'int64')].index)\n",
    "print(\"Columns that will be scaled:\", col_scale)"
   ]
  },
  {
   "cell_type": "code",
   "execution_count": 61,
   "metadata": {},
   "outputs": [],
   "source": [
    "# Scaling the data\n",
    "scaler = StandardScaler()\n",
    "X_train_scaled = X_train.copy()\n",
    "X_test_scaled = X_test.copy()\n",
    "X_train_scaled[col_scale] = scaler.fit_transform(X_train[col_scale])\n",
    "X_test_scaled[col_scale] = scaler.transform(X_test[col_scale])"
   ]
  },
  {
   "cell_type": "markdown",
   "metadata": {},
   "source": [
    "## Machine learning models\n",
    "\n",
    "Since we have many categorical features, tree-based models are more suitable for training our model. We also consider a simple logistic regression model. It is not necessary to scale the features for the tree-based models, however scaled data is used for the logistic regression model.\n",
    "\n",
    "The models under consideration are:\n",
    "1. Logistic regression\n",
    "2. Decision tree\n",
    "3. Random forest\n",
    "4. Stochastic Gradient Boost (XGBoost)\n",
    "5. Adaboost"
   ]
  },
  {
   "cell_type": "markdown",
   "metadata": {},
   "source": [
    "### 1. Logistic regression"
   ]
  },
  {
   "cell_type": "code",
   "execution_count": 62,
   "metadata": {},
   "outputs": [
    {
     "name": "stdout",
     "output_type": "stream",
     "text": [
      "Precision on train data:  0.734\n",
      "Accuracy on train data :   0.721\n",
      "Precision on test data:  0.732\n",
      "Accuracy on test data :   0.721\n"
     ]
    }
   ],
   "source": [
    "logreg = LogisticRegression(random_state=RSEED)\n",
    "logreg.fit(X_train_scaled, y_train)\n",
    "\n",
    "y_pred_train = logreg.predict(X_train_scaled)\n",
    "y_pred_test = logreg.predict(X_test_scaled)\n",
    "\n",
    "print(\"Precision on train data: \", round(precision_score(y_train, y_pred_train),3))\n",
    "print(\"Accuracy on train data :  \", round(accuracy_score(y_train, y_pred_train),3))\n",
    "\n",
    "print(\"Precision on test data: \", round(precision_score(y_test, y_pred_test),3))\n",
    "print(\"Accuracy on test data :  \", round(accuracy_score(y_test, y_pred_test),3))"
   ]
  },
  {
   "cell_type": "markdown",
   "metadata": {},
   "source": [
    "### 2. Decision Tree"
   ]
  },
  {
   "cell_type": "code",
   "execution_count": 63,
   "metadata": {},
   "outputs": [
    {
     "name": "stdout",
     "output_type": "stream",
     "text": [
      "Precision on train data:  1.0\n",
      "Accuracy on train data :   0.999\n",
      "Precision on test data:  0.698\n",
      "Accuracy on test data :   0.66\n"
     ]
    }
   ],
   "source": [
    "dtree = DecisionTreeClassifier()\n",
    "dtree.fit(X_train, y_train) \n",
    "\n",
    "y_pred_train = dtree.predict(X_train)\n",
    "y_pred_test = dtree.predict(X_test)\n",
    "\n",
    "print(\"Precision on train data: \", round(precision_score(y_train, y_pred_train),3))\n",
    "print(\"Accuracy on train data :  \", round(accuracy_score(y_train, y_pred_train),3))\n",
    "\n",
    "print(\"Precision on test data: \", round(precision_score(y_test, y_pred_test),3))\n",
    "print(\"Accuracy on test data :  \", round(accuracy_score(y_test, y_pred_test),3))"
   ]
  },
  {
   "cell_type": "markdown",
   "metadata": {},
   "source": [
    "### 3. Random forest"
   ]
  },
  {
   "cell_type": "code",
   "execution_count": 64,
   "metadata": {},
   "outputs": [
    {
     "name": "stderr",
     "output_type": "stream",
     "text": [
      "[Parallel(n_jobs=-1)]: Using backend ThreadingBackend with 8 concurrent workers.\n",
      "[Parallel(n_jobs=-1)]: Done  34 tasks      | elapsed:    1.4s\n",
      "[Parallel(n_jobs=-1)]: Done 100 out of 100 | elapsed:    3.2s finished\n"
     ]
    },
    {
     "data": {
      "text/plain": [
       "RandomForestClassifier(max_features='sqrt', n_jobs=-1, random_state=42,\n",
       "                       verbose=1)"
      ]
     },
     "execution_count": 64,
     "metadata": {},
     "output_type": "execute_result"
    }
   ],
   "source": [
    "from sklearn.ensemble import RandomForestClassifier\n",
    "\n",
    "# Create the model with 100 trees\n",
    "rf = RandomForestClassifier(n_estimators=100, \n",
    "                               random_state=RSEED, \n",
    "                               max_features = 'sqrt',\n",
    "                               n_jobs=-1, verbose = 1)\n",
    "\n",
    "# Fit on training data\n",
    "rf.fit(X_train, y_train)"
   ]
  },
  {
   "cell_type": "code",
   "execution_count": 65,
   "metadata": {},
   "outputs": [
    {
     "name": "stderr",
     "output_type": "stream",
     "text": [
      "[Parallel(n_jobs=8)]: Using backend ThreadingBackend with 8 concurrent workers.\n",
      "[Parallel(n_jobs=8)]: Done  34 tasks      | elapsed:    0.4s\n",
      "[Parallel(n_jobs=8)]: Done 100 out of 100 | elapsed:    0.9s finished\n",
      "[Parallel(n_jobs=8)]: Using backend ThreadingBackend with 8 concurrent workers.\n",
      "[Parallel(n_jobs=8)]: Done  34 tasks      | elapsed:    0.2s\n"
     ]
    },
    {
     "name": "stdout",
     "output_type": "stream",
     "text": [
      "Precision on train data:  0.999\n",
      "Accuracy on train data :   0.999\n",
      "Precision on test data:  0.752\n",
      "Accuracy on test data :   0.736\n"
     ]
    },
    {
     "name": "stderr",
     "output_type": "stream",
     "text": [
      "[Parallel(n_jobs=8)]: Done 100 out of 100 | elapsed:    0.5s finished\n"
     ]
    }
   ],
   "source": [
    "y_pred_train = rf.predict(X_train)\n",
    "y_pred_test = rf.predict(X_test)\n",
    "\n",
    "print(\"Precision on train data: \", round(precision_score(y_train, y_pred_train),3))\n",
    "print(\"Accuracy on train data :  \", round(accuracy_score(y_train, y_pred_train),3))\n",
    "\n",
    "print(\"Precision on test data: \", round(precision_score(y_test, y_pred_test),3))\n",
    "print(\"Accuracy on test data :  \", round(accuracy_score(y_test, y_pred_test),3))"
   ]
  },
  {
   "cell_type": "markdown",
   "metadata": {},
   "source": [
    "### 4. Stochastic Gradient Boost (XGBoost)"
   ]
  },
  {
   "cell_type": "code",
   "execution_count": 66,
   "metadata": {},
   "outputs": [
    {
     "data": {
      "text/plain": [
       "XGBClassifier(base_score=0.5, booster='gbtree', callbacks=None,\n",
       "              colsample_bylevel=1, colsample_bynode=1, colsample_bytree=1,\n",
       "              early_stopping_rounds=None, enable_categorical=False,\n",
       "              eval_metric=None, gamma=0, gpu_id=-1, grow_policy='depthwise',\n",
       "              importance_type=None, interaction_constraints='',\n",
       "              learning_rate=0.300000012, max_bin=256, max_cat_to_onehot=4,\n",
       "              max_delta_step=0, max_depth=6, max_leaves=0, min_child_weight=1,\n",
       "              missing=nan, monotone_constraints='()', n_estimators=100,\n",
       "              n_jobs=0, num_parallel_tree=1, predictor='auto', random_state=42,\n",
       "              reg_alpha=0, reg_lambda=1, ...)"
      ]
     },
     "execution_count": 66,
     "metadata": {},
     "output_type": "execute_result"
    }
   ],
   "source": [
    "xgb = XGBClassifier(random_state=RSEED)\n",
    "xgb.fit(X_train, y_train)"
   ]
  },
  {
   "cell_type": "code",
   "execution_count": 67,
   "metadata": {},
   "outputs": [
    {
     "name": "stdout",
     "output_type": "stream",
     "text": [
      "Precision on train data:  0.782\n",
      "Accuracy on train data :   0.775\n",
      "Precision on test data:  0.76\n",
      "Accuracy on test data :   0.7511\n"
     ]
    }
   ],
   "source": [
    "y_pred_train = xgb.predict(X_train)\n",
    "y_pred_test = xgb.predict(X_test)\n",
    "\n",
    "print(\"Precision on train data: \", round(precision_score(y_train, y_pred_train),3))\n",
    "print(\"Accuracy on train data :  \", round(accuracy_score(y_train, y_pred_train),3))\n",
    "\n",
    "print(\"Precision on test data: \", round(precision_score(y_test, y_pred_test),4))\n",
    "print(\"Accuracy on test data :  \", round(accuracy_score(y_test, y_pred_test),4))"
   ]
  },
  {
   "cell_type": "markdown",
   "metadata": {},
   "source": [
    "### 6. Adaboost"
   ]
  },
  {
   "cell_type": "code",
   "execution_count": 68,
   "metadata": {},
   "outputs": [
    {
     "data": {
      "text/plain": [
       "AdaBoostClassifier(base_estimator=DecisionTreeClassifier(), random_state=42)"
      ]
     },
     "execution_count": 68,
     "metadata": {},
     "output_type": "execute_result"
    }
   ],
   "source": [
    "clf = AdaBoostClassifier(base_estimator=DecisionTreeClassifier(), random_state=RSEED) \n",
    "clf.fit(X_train, y_train)"
   ]
  },
  {
   "cell_type": "code",
   "execution_count": 69,
   "metadata": {},
   "outputs": [
    {
     "name": "stdout",
     "output_type": "stream",
     "text": [
      "Precision on train data:  1.0\n",
      "Accuracy on train data :   0.999\n",
      "Precision on test data:  0.717\n",
      "Accuracy on test data :   0.696\n"
     ]
    }
   ],
   "source": [
    "y_pred_train = clf.predict(X_train)\n",
    "y_pred_test = clf.predict(X_test)\n",
    "\n",
    "print(\"Precision on train data: \", round(precision_score(y_train, y_pred_train),3))\n",
    "print(\"Accuracy on train data :  \", round(accuracy_score(y_train, y_pred_train),3))\n",
    "\n",
    "print(\"Precision on test data: \", round(precision_score(y_test, y_pred_test),3))\n",
    "print(\"Accuracy on test data :  \", round(accuracy_score(y_test, y_pred_test),3))"
   ]
  },
  {
   "cell_type": "markdown",
   "metadata": {},
   "source": [
    "The decision tree, random forest and Adaboost models showed a significant difference in the precision and accuracy between the train and test data set, which is indicative of overfitting."
   ]
  },
  {
   "cell_type": "markdown",
   "metadata": {},
   "source": [
    "## Best model"
   ]
  },
  {
   "cell_type": "markdown",
   "metadata": {},
   "source": [
    "XGBoost gave the best results \"out of the box\", so we will run a grid search and cross validation using it."
   ]
  },
  {
   "cell_type": "code",
   "execution_count": 76,
   "metadata": {},
   "outputs": [
    {
     "name": "stdout",
     "output_type": "stream",
     "text": [
      "Fitting 5 folds for each of 1 candidates, totalling 5 fits\n"
     ]
    }
   ],
   "source": [
    "estimator = XGBClassifier(random_state=RSEED)\n",
    "\n",
    "# param_grid = {\n",
    "#     'max_depth': [4, 5, 6, 7, 8],\n",
    "#     'n_estimators': [50, 100, 150, 200, 250],\n",
    "#     'learning_rate': [0.3, 0.4, 0.5, 0.6]\n",
    "# }\n",
    "\n",
    "param_grid = {\n",
    "    'max_depth': [5],\n",
    "    'n_estimators': [100],\n",
    "    'learning_rate': [0.4]\n",
    " }\n",
    "\n",
    "grid_search = GridSearchCV(\n",
    "    estimator=estimator,\n",
    "    param_grid=param_grid,\n",
    "    scoring = 'precision',\n",
    "    cv = 5,\n",
    "    verbose=2\n",
    ")\n",
    "\n",
    "grid_search.fit(X_train, y_train)"
   ]
  },
  {
   "cell_type": "code",
   "execution_count": 71,
   "metadata": {},
   "outputs": [
    {
     "ename": "AttributeError",
     "evalue": "'GridSearchCV' object has no attribute 'best_estimator_'",
     "output_type": "error",
     "traceback": [
      "\u001b[0;31m---------------------------------------------------------------------------\u001b[0m",
      "\u001b[0;31mAttributeError\u001b[0m                            Traceback (most recent call last)",
      "\u001b[1;32m/Users/slwong/neuefische/ML_Project_Kickstarter_Success/3_Modeling.ipynb Cell 38'\u001b[0m in \u001b[0;36m<cell line: 1>\u001b[0;34m()\u001b[0m\n\u001b[0;32m----> <a href='vscode-notebook-cell:/Users/slwong/neuefische/ML_Project_Kickstarter_Success/3_Modeling.ipynb#ch0000037?line=0'>1</a>\u001b[0m best_model \u001b[39m=\u001b[39m grid_search\u001b[39m.\u001b[39;49mbest_estimator_\n\u001b[1;32m      <a href='vscode-notebook-cell:/Users/slwong/neuefische/ML_Project_Kickstarter_Success/3_Modeling.ipynb#ch0000037?line=1'>2</a>\u001b[0m best_params \u001b[39m=\u001b[39m grid_search\u001b[39m.\u001b[39mbest_params_\n\u001b[1;32m      <a href='vscode-notebook-cell:/Users/slwong/neuefische/ML_Project_Kickstarter_Success/3_Modeling.ipynb#ch0000037?line=3'>4</a>\u001b[0m y_pred_train \u001b[39m=\u001b[39m best_model\u001b[39m.\u001b[39mpredict(X_train)\n",
      "\u001b[0;31mAttributeError\u001b[0m: 'GridSearchCV' object has no attribute 'best_estimator_'"
     ]
    }
   ],
   "source": [
    "best_model = grid_search.best_estimator_\n",
    "best_params = grid_search.best_params_\n",
    "\n",
    "y_pred_train = best_model.predict(X_train)\n",
    "y_pred_test = best_model.predict(X_test)\n",
    "\n",
    "print(\"Precision on train data: \", round(precision_score(y_train, y_pred_train),3))\n",
    "print(\"Accuracy on train data :  \", round(accuracy_score(y_train, y_pred_train),3))\n",
    "\n",
    "print(\"Precision on test data: \", round(precision_score(y_test, y_pred_test),3))\n",
    "print(\"Accuracy on test data :  \", round(accuracy_score(y_test, y_pred_test),3))\n",
    "\n",
    "print(\"Best params: \", best_params)\n",
    "print(\"\\n\")\n",
    "print(classification_report(y_test, y_pred_test))"
   ]
  },
  {
   "cell_type": "markdown",
   "metadata": {},
   "source": [
    "## Confusion matrix"
   ]
  },
  {
   "cell_type": "code",
   "execution_count": 72,
   "metadata": {},
   "outputs": [],
   "source": [
    "# Confusion matrix on train and test data\n",
    "cm_train = confusion_matrix(y_train, y_pred_train)\n",
    "cm_test = confusion_matrix(y_test, y_pred_test)"
   ]
  },
  {
   "cell_type": "code",
   "execution_count": 73,
   "metadata": {},
   "outputs": [],
   "source": [
    "# Function to plot confusion matrix\n",
    "def plot_confusion_matrix(cm, classes,\n",
    "                          normalize=False,\n",
    "                          title='Confusion matrix',\n",
    "                          cmap=plt.cm.Blues):\n",
    "    \"\"\"\n",
    "    This function prints and plots the confusion matrix.\n",
    "    Normalization can be applied by setting `normalize=True`.\n",
    "    \"\"\"\n",
    "    if normalize:\n",
    "        cm = cm.astype('float') / cm.sum(axis=1)[:, np.newaxis]\n",
    "        print(\"Normalized confusion matrix\")\n",
    "        print(\"--------\"*5)\n",
    "    else:\n",
    "        print('Confusion matrix, without normalization:')\n",
    "        print(\"--------\"*5)\n",
    "\n",
    "    plt.imshow(cm, interpolation='nearest', cmap=cmap)\n",
    "    plt.title(title)\n",
    "    plt.colorbar()\n",
    "    tick_marks = np.arange(len(classes))\n",
    "    plt.xticks(tick_marks, classes, rotation=0)\n",
    "    plt.yticks(tick_marks, classes)\n",
    "\n",
    "    fmt = '.2f' if normalize else 'd'\n",
    "    thresh = cm.max() / 2.\n",
    "    for i, j in itertools.product(range(cm.shape[0]), range(cm.shape[1])):\n",
    "        plt.text(j, i, format(cm[i, j], fmt),\n",
    "                 horizontalalignment=\"center\",\n",
    "                 color=\"white\" if cm[i, j] > thresh else \"black\")\n",
    "\n",
    "    plt.tight_layout()\n",
    "    plt.ylabel('True label')\n",
    "    plt.xlabel('Predicted label')\n"
   ]
  },
  {
   "cell_type": "code",
   "execution_count": null,
   "metadata": {},
   "outputs": [],
   "source": [
    "plot_confusion_matrix(cm_train, classes=['Fail', 'Success'], normalize=False, title='Confusion matrix for train data')"
   ]
  },
  {
   "cell_type": "code",
   "execution_count": null,
   "metadata": {},
   "outputs": [],
   "source": [
    "plot_confusion_matrix(cm_test, classes=['Fail', 'Success'], normalize=False, title='Confusion matrix for test data')"
   ]
  },
  {
   "cell_type": "markdown",
   "metadata": {},
   "source": [
    "### Save false positive (FP) and false negative (FN) rows for later error analysis"
   ]
  },
  {
   "cell_type": "markdown",
   "metadata": {},
   "source": [
    "Exploratory Data Analysis will be done on the rows where the predicted values do not match the target values to understand how the model can be improved. A DataFrame with only the observations where the target and predicted value do not match is saved. "
   ]
  },
  {
   "cell_type": "code",
   "execution_count": null,
   "metadata": {},
   "outputs": [],
   "source": [
    "y_pred_train = pd.DataFrame(y_pred_train, columns=['y_pred_train']).set_index(y_train.index)\n",
    "df_error = pd.concat([Xc_train, y_train, y_pred_train], axis=1)\n",
    "df_error = df_error.query('target != y_pred_train')\n",
    "df_error.head()"
   ]
  },
  {
   "cell_type": "code",
   "execution_count": null,
   "metadata": {},
   "outputs": [],
   "source": [
    "df_error.shape"
   ]
  },
  {
   "cell_type": "code",
   "execution_count": null,
   "metadata": {},
   "outputs": [],
   "source": [
    "df_error.to_csv('data/Kickstarter_error_analysis.csv', sep=',', index=False)"
   ]
  },
  {
   "cell_type": "markdown",
   "metadata": {},
   "source": [
    "## Error Analysis"
   ]
  },
  {
   "cell_type": "markdown",
   "metadata": {},
   "source": [
    "### Failure/success rate by category"
   ]
  },
  {
   "cell_type": "code",
   "execution_count": null,
   "metadata": {},
   "outputs": [],
   "source": [
    "df_plot =df.groupby('year')['target'].value_counts(normalize=True).rename('percent').mul(100).reset_index()\n",
    "plt.rcParams['legend.title_fontsize'] = 'large'\n",
    "plt.rcParams['legend.fontsize'] = 'large'\n",
    "g = sns.catplot(x=\"year\", y=\"percent\", data=df_plot, hue=\"target\", kind='bar', height=5, aspect=3.7, palette=sns.color_palette(['#d5815f', '#69b0b1'])).set(title='Success rate by year (actual)')\n",
    "plt.ylim((0, 100))\n",
    "plt.yticks(np.arange(0,101,10),fontsize=20)\n",
    "g.set_xlabels(\"Year\", fontsize=28)\n",
    "g.set_xticklabels(fontsize=20)\n",
    "g.set_ylabels(\"Failure/success rate (%)\", fontsize=28)\n",
    "plt.title('Actual success rate by year', fontsize=28)\n",
    "sns.despine(fig=None, ax=None, top=False, right=False, left=False, bottom=False, offset=None, trim=False)\n",
    "\n",
    "legend = g._legend\n",
    "legend.set_title(\"Outcome\")\n",
    "for t, l in zip(legend.texts,(\"Failure\", \"Success\")):\n",
    "    t.set_text(l)\n",
    "\n",
    "g.fig.subplots_adjust(top=1,right=0.89)"
   ]
  },
  {
   "cell_type": "markdown",
   "metadata": {},
   "source": [
    "### Predicted success rate by year where the prediction was wrong"
   ]
  },
  {
   "cell_type": "code",
   "execution_count": null,
   "metadata": {},
   "outputs": [],
   "source": [
    "df_plot = df_error.groupby('year')['y_pred_train'].value_counts(normalize=True).mul(100).rename('percent').reset_index()\n",
    "plt.rcParams['legend.title_fontsize'] = 'large'\n",
    "plt.rcParams['legend.fontsize'] = 'large'\n",
    "g = sns.catplot(x=\"year\", y=\"percent\", data=df_plot, hue=\"y_pred_train\", kind='bar', height=5, aspect=3.7, palette=sns.color_palette(['#d5815f', '#69b0b1'])).set(title='Predicted success rate by year')\n",
    "plt.ylim((0, 100))\n",
    "plt.yticks(np.arange(0,101,10),fontsize=20)\n",
    "g.set_xlabels(\"Year\", fontsize=28)\n",
    "g.set_xticklabels(fontsize=20)\n",
    "g.set_ylabels(\"Failure/success rate (%)\", fontsize=28)\n",
    "plt.title('Predicted success rate by year', fontsize=28)\n",
    "sns.despine(fig=None, ax=None, top=False, right=False, left=False, bottom=False, offset=None, trim=False)\n",
    "\n",
    "legend = g._legend\n",
    "legend.set_title(\"Outcome\")\n",
    "for t, l in zip(legend.texts,(\"Failure\", \"Success\")):\n",
    "    t.set_text(l)\n",
    "\n",
    "g.fig.subplots_adjust(top=1,right=0.89)"
   ]
  }
 ],
 "metadata": {
  "kernelspec": {
   "display_name": "Python 3.9.8 ('.venv': venv)",
   "language": "python",
   "name": "python3"
  },
  "language_info": {
   "codemirror_mode": {
    "name": "ipython",
    "version": 3
   },
   "file_extension": ".py",
   "mimetype": "text/x-python",
   "name": "python",
   "nbconvert_exporter": "python",
   "pygments_lexer": "ipython3",
   "version": "3.9.8"
  },
  "orig_nbformat": 4,
  "vscode": {
   "interpreter": {
    "hash": "e26904dc154732a495317b113324a53c54b86c05343918c18aeac298387fd9fa"
   }
  }
 },
 "nbformat": 4,
 "nbformat_minor": 2
}
